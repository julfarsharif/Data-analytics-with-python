{
 "cells": [
  {
   "cell_type": "markdown",
   "id": "f9d36a47",
   "metadata": {},
   "source": [
    "# ARRAY"
   ]
  },
  {
   "cell_type": "code",
   "execution_count": 2,
   "id": "63a313ee",
   "metadata": {},
   "outputs": [],
   "source": [
    "import array as ar\n"
   ]
  },
  {
   "cell_type": "code",
   "execution_count": 3,
   "id": "c1a0e1e9",
   "metadata": {},
   "outputs": [],
   "source": [
    "a=ar.array('i',[1,2,3,4,5,6])\n",
    "b=ar.array('d',[6,4,6,7,8,9,4,3])"
   ]
  },
  {
   "cell_type": "code",
   "execution_count": 4,
   "id": "5308b593",
   "metadata": {},
   "outputs": [
    {
     "data": {
      "text/plain": [
       "array('d', [6.0, 4.0, 6.0, 7.0, 8.0, 9.0, 4.0, 3.0])"
      ]
     },
     "execution_count": 4,
     "metadata": {},
     "output_type": "execute_result"
    }
   ],
   "source": [
    "b"
   ]
  },
  {
   "cell_type": "code",
   "execution_count": 5,
   "id": "d93e8d58",
   "metadata": {},
   "outputs": [
    {
     "data": {
      "text/plain": [
       "array('i', [1, 2, 3, 4, 5, 6])"
      ]
     },
     "execution_count": 5,
     "metadata": {},
     "output_type": "execute_result"
    }
   ],
   "source": [
    "a"
   ]
  },
  {
   "cell_type": "code",
   "execution_count": 6,
   "id": "a80a6cb1",
   "metadata": {},
   "outputs": [
    {
     "name": "stdout",
     "output_type": "stream",
     "text": [
      "3\n"
     ]
    }
   ],
   "source": [
    "print(a[2])"
   ]
  },
  {
   "cell_type": "code",
   "execution_count": 7,
   "id": "40434eb1",
   "metadata": {},
   "outputs": [],
   "source": [
    "a.append(9)"
   ]
  },
  {
   "cell_type": "code",
   "execution_count": 8,
   "id": "80bd040f",
   "metadata": {},
   "outputs": [
    {
     "data": {
      "text/plain": [
       "array('i', [1, 2, 3, 4, 5, 6, 9])"
      ]
     },
     "execution_count": 8,
     "metadata": {},
     "output_type": "execute_result"
    }
   ],
   "source": [
    "a"
   ]
  },
  {
   "cell_type": "code",
   "execution_count": 12,
   "id": "5a4ced2a",
   "metadata": {},
   "outputs": [],
   "source": [
    "a.extend([10,11,7])"
   ]
  },
  {
   "cell_type": "code",
   "execution_count": 13,
   "id": "3efdbc24",
   "metadata": {},
   "outputs": [
    {
     "data": {
      "text/plain": [
       "array('i', [1, 2, 3, 4, 5, 6, 9, 10, 11, 7])"
      ]
     },
     "execution_count": 13,
     "metadata": {},
     "output_type": "execute_result"
    }
   ],
   "source": [
    "a"
   ]
  },
  {
   "cell_type": "code",
   "execution_count": 14,
   "id": "3e71c927",
   "metadata": {},
   "outputs": [],
   "source": [
    "a.insert(4,7)"
   ]
  },
  {
   "cell_type": "code",
   "execution_count": 15,
   "id": "bb87571c",
   "metadata": {},
   "outputs": [
    {
     "data": {
      "text/plain": [
       "array('i', [1, 2, 3, 4, 7, 5, 6, 9, 10, 11, 7])"
      ]
     },
     "execution_count": 15,
     "metadata": {},
     "output_type": "execute_result"
    }
   ],
   "source": [
    "a"
   ]
  },
  {
   "cell_type": "code",
   "execution_count": 16,
   "id": "7599258d",
   "metadata": {},
   "outputs": [],
   "source": [
    "a.remove(4)"
   ]
  },
  {
   "cell_type": "code",
   "execution_count": 17,
   "id": "47de8c8d",
   "metadata": {},
   "outputs": [
    {
     "data": {
      "text/plain": [
       "array('i', [1, 2, 3, 7, 5, 6, 9, 10, 11, 7])"
      ]
     },
     "execution_count": 17,
     "metadata": {},
     "output_type": "execute_result"
    }
   ],
   "source": [
    "a"
   ]
  },
  {
   "cell_type": "code",
   "execution_count": 18,
   "id": "164ca8fc",
   "metadata": {},
   "outputs": [
    {
     "data": {
      "text/plain": [
       "5"
      ]
     },
     "execution_count": 18,
     "metadata": {},
     "output_type": "execute_result"
    }
   ],
   "source": [
    "a.pop(4)"
   ]
  },
  {
   "cell_type": "code",
   "execution_count": 22,
   "id": "5df3a9d1",
   "metadata": {},
   "outputs": [
    {
     "data": {
      "text/plain": [
       "array('i', [1, 2, 3, 7, 6, 9, 10, 11, 7])"
      ]
     },
     "execution_count": 22,
     "metadata": {},
     "output_type": "execute_result"
    }
   ],
   "source": [
    "a"
   ]
  },
  {
   "cell_type": "code",
   "execution_count": 23,
   "id": "dc267618",
   "metadata": {},
   "outputs": [
    {
     "data": {
      "text/plain": [
       "array('i', [3, 7, 6, 9])"
      ]
     },
     "execution_count": 23,
     "metadata": {},
     "output_type": "execute_result"
    }
   ],
   "source": [
    "a[2:6]"
   ]
  },
  {
   "cell_type": "code",
   "execution_count": 24,
   "id": "48bac730",
   "metadata": {},
   "outputs": [
    {
     "data": {
      "text/plain": [
       "array('i', [6, 9, 10, 11, 7])"
      ]
     },
     "execution_count": 24,
     "metadata": {},
     "output_type": "execute_result"
    }
   ],
   "source": [
    "a[4:]\n"
   ]
  },
  {
   "cell_type": "code",
   "execution_count": 25,
   "id": "bde5e32c",
   "metadata": {},
   "outputs": [
    {
     "data": {
      "text/plain": [
       "array('i', [1, 9])"
      ]
     },
     "execution_count": 25,
     "metadata": {},
     "output_type": "execute_result"
    }
   ],
   "source": [
    "a[::5]"
   ]
  },
  {
   "cell_type": "code",
   "execution_count": 26,
   "id": "16e0f0eb",
   "metadata": {},
   "outputs": [
    {
     "data": {
      "text/plain": [
       "array('i', [1, 2, 3, 7, 6])"
      ]
     },
     "execution_count": 26,
     "metadata": {},
     "output_type": "execute_result"
    }
   ],
   "source": [
    "a[:5]"
   ]
  },
  {
   "cell_type": "code",
   "execution_count": 27,
   "id": "cf1effe3",
   "metadata": {},
   "outputs": [
    {
     "data": {
      "text/plain": [
       "9"
      ]
     },
     "execution_count": 27,
     "metadata": {},
     "output_type": "execute_result"
    }
   ],
   "source": [
    "len(a)"
   ]
  },
  {
   "cell_type": "code",
   "execution_count": 28,
   "id": "31c588f3",
   "metadata": {},
   "outputs": [],
   "source": [
    "a.reverse()"
   ]
  },
  {
   "cell_type": "code",
   "execution_count": 29,
   "id": "35412efb",
   "metadata": {},
   "outputs": [
    {
     "data": {
      "text/plain": [
       "array('i', [7, 11, 10, 9, 6, 7, 3, 2, 1])"
      ]
     },
     "execution_count": 29,
     "metadata": {},
     "output_type": "execute_result"
    }
   ],
   "source": [
    "a"
   ]
  },
  {
   "cell_type": "markdown",
   "id": "47d4a388",
   "metadata": {},
   "source": [
    "# LIST"
   ]
  },
  {
   "cell_type": "code",
   "execution_count": 33,
   "id": "83186136",
   "metadata": {},
   "outputs": [],
   "source": [
    "sharif=['45kg',\"185cm\",\"brunete\",121012169256,4j,7.5]"
   ]
  },
  {
   "cell_type": "code",
   "execution_count": 34,
   "id": "33eddd66",
   "metadata": {},
   "outputs": [
    {
     "data": {
      "text/plain": [
       "list"
      ]
     },
     "execution_count": 34,
     "metadata": {},
     "output_type": "execute_result"
    }
   ],
   "source": [
    "type(sharif)"
   ]
  },
  {
   "cell_type": "code",
   "execution_count": 35,
   "id": "8a093e57",
   "metadata": {},
   "outputs": [
    {
     "data": {
      "text/plain": [
       "6"
      ]
     },
     "execution_count": 35,
     "metadata": {},
     "output_type": "execute_result"
    }
   ],
   "source": [
    "len(sharif)"
   ]
  },
  {
   "cell_type": "code",
   "execution_count": 37,
   "id": "290dee8c",
   "metadata": {},
   "outputs": [
    {
     "data": {
      "text/plain": [
       "'45kg'"
      ]
     },
     "execution_count": 37,
     "metadata": {},
     "output_type": "execute_result"
    }
   ],
   "source": [
    "sharif[0]"
   ]
  },
  {
   "cell_type": "code",
   "execution_count": 41,
   "id": "382dbe8f",
   "metadata": {},
   "outputs": [
    {
     "data": {
      "text/plain": [
       "7.5"
      ]
     },
     "execution_count": 41,
     "metadata": {},
     "output_type": "execute_result"
    }
   ],
   "source": [
    "sharif[-1]"
   ]
  },
  {
   "cell_type": "code",
   "execution_count": 39,
   "id": "34761b8e",
   "metadata": {},
   "outputs": [
    {
     "data": {
      "text/plain": [
       "['45kg', '185cm', 'brunete', 121012169256, 4j, 7.5]"
      ]
     },
     "execution_count": 39,
     "metadata": {},
     "output_type": "execute_result"
    }
   ],
   "source": [
    "sharif"
   ]
  },
  {
   "cell_type": "code",
   "execution_count": 44,
   "id": "ff761461",
   "metadata": {},
   "outputs": [
    {
     "data": {
      "text/plain": [
       "4j"
      ]
     },
     "execution_count": 44,
     "metadata": {},
     "output_type": "execute_result"
    }
   ],
   "source": [
    "sharif[4]"
   ]
  },
  {
   "cell_type": "code",
   "execution_count": 47,
   "id": "035e038b",
   "metadata": {},
   "outputs": [],
   "source": [
    "sharif.append('abcd')"
   ]
  },
  {
   "cell_type": "code",
   "execution_count": 48,
   "id": "80e57c7e",
   "metadata": {},
   "outputs": [
    {
     "data": {
      "text/plain": [
       "['45kg', '185cm', 'brunete', 121012169256, 4j, 7.5, 'abcd', 'abcd']"
      ]
     },
     "execution_count": 48,
     "metadata": {},
     "output_type": "execute_result"
    }
   ],
   "source": [
    "sharif"
   ]
  },
  {
   "cell_type": "code",
   "execution_count": 49,
   "id": "2f0f063b",
   "metadata": {},
   "outputs": [],
   "source": [
    "sharif.remove('abcd')\n"
   ]
  },
  {
   "cell_type": "code",
   "execution_count": 50,
   "id": "0105de06",
   "metadata": {},
   "outputs": [
    {
     "data": {
      "text/plain": [
       "['45kg', '185cm', 'brunete', 121012169256, 4j, 7.5, 'abcd']"
      ]
     },
     "execution_count": 50,
     "metadata": {},
     "output_type": "execute_result"
    }
   ],
   "source": [
    "sharif"
   ]
  },
  {
   "cell_type": "code",
   "execution_count": 51,
   "id": "069eb658",
   "metadata": {},
   "outputs": [],
   "source": [
    "sharif.append('smart')"
   ]
  },
  {
   "cell_type": "code",
   "execution_count": 52,
   "id": "ed65956b",
   "metadata": {},
   "outputs": [
    {
     "data": {
      "text/plain": [
       "['45kg', '185cm', 'brunete', 121012169256, 4j, 7.5, 'abcd', 'smart']"
      ]
     },
     "execution_count": 52,
     "metadata": {},
     "output_type": "execute_result"
    }
   ],
   "source": [
    "sharif\n"
   ]
  },
  {
   "cell_type": "code",
   "execution_count": 53,
   "id": "49c0e188",
   "metadata": {},
   "outputs": [],
   "source": [
    "sharif.remove('abcd')"
   ]
  },
  {
   "cell_type": "code",
   "execution_count": 54,
   "id": "ccb5c579",
   "metadata": {},
   "outputs": [
    {
     "data": {
      "text/plain": [
       "['45kg', '185cm', 'brunete', 121012169256, 4j, 7.5, 'smart']"
      ]
     },
     "execution_count": 54,
     "metadata": {},
     "output_type": "execute_result"
    }
   ],
   "source": [
    "sharif"
   ]
  },
  {
   "cell_type": "code",
   "execution_count": 56,
   "id": "bd94ccc2",
   "metadata": {},
   "outputs": [
    {
     "data": {
      "text/plain": [
       "'smart'"
      ]
     },
     "execution_count": 56,
     "metadata": {},
     "output_type": "execute_result"
    }
   ],
   "source": [
    "sharif.pop(5)"
   ]
  },
  {
   "cell_type": "code",
   "execution_count": 57,
   "id": "a6b81643",
   "metadata": {},
   "outputs": [
    {
     "data": {
      "text/plain": [
       "['45kg', '185cm', 'brunete', 121012169256, 7.5]"
      ]
     },
     "execution_count": 57,
     "metadata": {},
     "output_type": "execute_result"
    }
   ],
   "source": [
    "sharif"
   ]
  },
  {
   "cell_type": "code",
   "execution_count": 58,
   "id": "6668435a",
   "metadata": {},
   "outputs": [
    {
     "data": {
      "text/plain": [
       "7.5"
      ]
     },
     "execution_count": 58,
     "metadata": {},
     "output_type": "execute_result"
    }
   ],
   "source": [
    "sharif.pop(4)"
   ]
  },
  {
   "cell_type": "code",
   "execution_count": 68,
   "id": "dca6cc12",
   "metadata": {},
   "outputs": [],
   "source": [
    "sharif.append('smart')"
   ]
  },
  {
   "cell_type": "code",
   "execution_count": 60,
   "id": "aa50d71c",
   "metadata": {},
   "outputs": [
    {
     "data": {
      "text/plain": [
       "['45kg', '185cm', 'brunete', 121012169256, 'smart']"
      ]
     },
     "execution_count": 60,
     "metadata": {},
     "output_type": "execute_result"
    }
   ],
   "source": [
    "sharif"
   ]
  },
  {
   "cell_type": "code",
   "execution_count": 69,
   "id": "939e7f9c",
   "metadata": {},
   "outputs": [],
   "source": [
    "del sharif[4]"
   ]
  },
  {
   "cell_type": "code",
   "execution_count": 70,
   "id": "6853f9ab",
   "metadata": {},
   "outputs": [
    {
     "data": {
      "text/plain": [
       "['45kg', '185cm', 'brunete', 121012169256]"
      ]
     },
     "execution_count": 70,
     "metadata": {},
     "output_type": "execute_result"
    }
   ],
   "source": [
    "sharif"
   ]
  },
  {
   "cell_type": "code",
   "execution_count": 73,
   "id": "97eb9544",
   "metadata": {},
   "outputs": [],
   "source": [
    "a=sharif.copy()"
   ]
  },
  {
   "cell_type": "code",
   "execution_count": 74,
   "id": "299f2a75",
   "metadata": {},
   "outputs": [
    {
     "data": {
      "text/plain": [
       "['45kg', '185cm', 'brunete', 121012169256]"
      ]
     },
     "execution_count": 74,
     "metadata": {},
     "output_type": "execute_result"
    }
   ],
   "source": [
    "a"
   ]
  },
  {
   "cell_type": "code",
   "execution_count": 75,
   "id": "8966846f",
   "metadata": {},
   "outputs": [
    {
     "data": {
      "text/plain": [
       "['45kg', '185cm', 'brunete', 121012169256]"
      ]
     },
     "execution_count": 75,
     "metadata": {},
     "output_type": "execute_result"
    }
   ],
   "source": [
    "a"
   ]
  },
  {
   "cell_type": "code",
   "execution_count": 77,
   "id": "fc2d2fe3",
   "metadata": {},
   "outputs": [
    {
     "name": "stdout",
     "output_type": "stream",
     "text": [
      "['45kg', '185cm', 'brunete', 121012169256, '45kg', '185cm', 'brunete', 121012169256]\n"
     ]
    }
   ],
   "source": [
    "b=a+sharif\n",
    "print(b)"
   ]
  },
  {
   "cell_type": "markdown",
   "id": "b6da38b7",
   "metadata": {},
   "source": [
    "# TUPLE"
   ]
  },
  {
   "cell_type": "code",
   "execution_count": 78,
   "id": "1b9c2d35",
   "metadata": {},
   "outputs": [],
   "source": [
    "me=(\"sharif\",19,'scholar',185.5,'75kg',7.5)"
   ]
  },
  {
   "cell_type": "code",
   "execution_count": 83,
   "id": "37be29b4",
   "metadata": {},
   "outputs": [
    {
     "ename": "AttributeError",
     "evalue": "'tuple' object has no attribute 'pop'",
     "output_type": "error",
     "traceback": [
      "\u001b[1;31m---------------------------------------------------------------------------\u001b[0m",
      "\u001b[1;31mAttributeError\u001b[0m                            Traceback (most recent call last)",
      "Cell \u001b[1;32mIn[83], line 1\u001b[0m\n\u001b[1;32m----> 1\u001b[0m \u001b[43mme\u001b[49m\u001b[38;5;241;43m.\u001b[39;49m\u001b[43mpop\u001b[49m(\u001b[38;5;124m'\u001b[39m\u001b[38;5;124mabcd\u001b[39m\u001b[38;5;124m'\u001b[39m)\n",
      "\u001b[1;31mAttributeError\u001b[0m: 'tuple' object has no attribute 'pop'"
     ]
    }
   ],
   "source": [
    "me.pop('abcd')"
   ]
  },
  {
   "cell_type": "code",
   "execution_count": 84,
   "id": "91551d68",
   "metadata": {},
   "outputs": [
    {
     "data": {
      "text/plain": [
       "tuple"
      ]
     },
     "execution_count": 84,
     "metadata": {},
     "output_type": "execute_result"
    }
   ],
   "source": [
    "type(me)"
   ]
  },
  {
   "cell_type": "code",
   "execution_count": 85,
   "id": "c1ad6366",
   "metadata": {},
   "outputs": [
    {
     "data": {
      "text/plain": [
       "6"
      ]
     },
     "execution_count": 85,
     "metadata": {},
     "output_type": "execute_result"
    }
   ],
   "source": [
    "len(me)"
   ]
  },
  {
   "cell_type": "code",
   "execution_count": 86,
   "id": "10f9d96a",
   "metadata": {},
   "outputs": [
    {
     "data": {
      "text/plain": [
       "('sharif', 19, 'scholar', 185.5, '75kg', 7.5)"
      ]
     },
     "execution_count": 86,
     "metadata": {},
     "output_type": "execute_result"
    }
   ],
   "source": [
    "me\n"
   ]
  },
  {
   "cell_type": "code",
   "execution_count": 88,
   "id": "29273543",
   "metadata": {},
   "outputs": [
    {
     "data": {
      "text/plain": [
       "<function tuple.count(value, /)>"
      ]
     },
     "execution_count": 88,
     "metadata": {},
     "output_type": "execute_result"
    }
   ],
   "source": [
    "me[2]\n"
   ]
  },
  {
   "cell_type": "code",
   "execution_count": 93,
   "id": "676fb3d4",
   "metadata": {},
   "outputs": [
    {
     "data": {
      "text/plain": [
       "1"
      ]
     },
     "execution_count": 93,
     "metadata": {},
     "output_type": "execute_result"
    }
   ],
   "source": [
    "me.count(19)"
   ]
  },
  {
   "cell_type": "code",
   "execution_count": 100,
   "id": "67e1aa2f",
   "metadata": {},
   "outputs": [],
   "source": [
    "name=\"julfar sharif\""
   ]
  },
  {
   "cell_type": "code",
   "execution_count": 101,
   "id": "5bb41142",
   "metadata": {},
   "outputs": [
    {
     "data": {
      "text/plain": [
       "13"
      ]
     },
     "execution_count": 101,
     "metadata": {},
     "output_type": "execute_result"
    }
   ],
   "source": [
    "len(name)"
   ]
  },
  {
   "cell_type": "code",
   "execution_count": 108,
   "id": "49b1e0dc",
   "metadata": {},
   "outputs": [
    {
     "data": {
      "text/plain": [
       "'jla hrf'"
      ]
     },
     "execution_count": 108,
     "metadata": {},
     "output_type": "execute_result"
    }
   ],
   "source": [
    "name[::2]\n"
   ]
  },
  {
   "cell_type": "code",
   "execution_count": 109,
   "id": "edb73708",
   "metadata": {},
   "outputs": [
    {
     "ename": "TypeError",
     "evalue": "'str' object does not support item assignment",
     "output_type": "error",
     "traceback": [
      "\u001b[1;31m---------------------------------------------------------------------------\u001b[0m",
      "\u001b[1;31mTypeError\u001b[0m                                 Traceback (most recent call last)",
      "Cell \u001b[1;32mIn[109], line 1\u001b[0m\n\u001b[1;32m----> 1\u001b[0m name[\u001b[38;5;241m2\u001b[39m]\u001b[38;5;241m=\u001b[39m\u001b[38;5;124m'\u001b[39m\u001b[38;5;124mo\u001b[39m\u001b[38;5;124m'\u001b[39m\n",
      "\u001b[1;31mTypeError\u001b[0m: 'str' object does not support item assignment"
     ]
    }
   ],
   "source": [
    "name[2]='o'"
   ]
  },
  {
   "cell_type": "markdown",
   "id": "8d508d0c",
   "metadata": {},
   "source": [
    "\n",
    "# SET"
   ]
  },
  {
   "cell_type": "code",
   "execution_count": 112,
   "id": "3e5e7a4d",
   "metadata": {},
   "outputs": [],
   "source": [
    "Set={12,121012169256,'sharif','pmist',7.5,4j}"
   ]
  },
  {
   "cell_type": "code",
   "execution_count": 114,
   "id": "14faf3a6",
   "metadata": {},
   "outputs": [
    {
     "data": {
      "text/plain": [
       "set"
      ]
     },
     "execution_count": 114,
     "metadata": {},
     "output_type": "execute_result"
    }
   ],
   "source": [
    "type(Set)"
   ]
  },
  {
   "cell_type": "code",
   "execution_count": 115,
   "id": "e3c4bcc8",
   "metadata": {},
   "outputs": [
    {
     "data": {
      "text/plain": [
       "6"
      ]
     },
     "execution_count": 115,
     "metadata": {},
     "output_type": "execute_result"
    }
   ],
   "source": [
    "len(Set)"
   ]
  },
  {
   "cell_type": "code",
   "execution_count": 118,
   "id": "836309b1",
   "metadata": {},
   "outputs": [],
   "source": [
    "Set.add('julfar')"
   ]
  },
  {
   "cell_type": "code",
   "execution_count": 119,
   "id": "9b8967f4",
   "metadata": {},
   "outputs": [
    {
     "data": {
      "text/plain": [
       "{12, 121012169256, 4j, 7.5, 'julfar', 'pmist', 'sharif'}"
      ]
     },
     "execution_count": 119,
     "metadata": {},
     "output_type": "execute_result"
    }
   ],
   "source": [
    "Set"
   ]
  },
  {
   "cell_type": "code",
   "execution_count": 135,
   "id": "5bab17d3",
   "metadata": {},
   "outputs": [],
   "source": [
    "Set.update({\"hi\",\"how are you\"})\n"
   ]
  },
  {
   "cell_type": "code",
   "execution_count": null,
   "id": "3d46355b",
   "metadata": {},
   "outputs": [],
   "source": []
  },
  {
   "cell_type": "code",
   "execution_count": null,
   "id": "50fb4903",
   "metadata": {},
   "outputs": [],
   "source": []
  }
 ],
 "metadata": {
  "kernelspec": {
   "display_name": "Python 3 (ipykernel)",
   "language": "python",
   "name": "python3"
  },
  "language_info": {
   "codemirror_mode": {
    "name": "ipython",
    "version": 3
   },
   "file_extension": ".py",
   "mimetype": "text/x-python",
   "name": "python",
   "nbconvert_exporter": "python",
   "pygments_lexer": "ipython3",
   "version": "3.9.16"
  }
 },
 "nbformat": 4,
 "nbformat_minor": 5
}
