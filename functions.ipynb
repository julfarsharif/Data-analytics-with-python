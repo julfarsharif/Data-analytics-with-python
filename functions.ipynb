{
 "cells": [
  {
   "cell_type": "markdown",
   "id": "7ffacb4f",
   "metadata": {},
   "source": [
    "# function"
   ]
  },
  {
   "cell_type": "code",
   "execution_count": 3,
   "id": "47002d44",
   "metadata": {},
   "outputs": [
    {
     "name": "stdout",
     "output_type": "stream",
     "text": [
      "enter your name : sharif\n",
      "Hello,my name is sharif\n"
     ]
    }
   ],
   "source": [
    "def abou(name):\n",
    "    print(f\"Hello,my name is {name}\")\n",
    "    \n",
    "about=input(\"enter your name : \")\n",
    "abou(about)"
   ]
  },
  {
   "cell_type": "code",
   "execution_count": 16,
   "id": "c3b41fc1",
   "metadata": {},
   "outputs": [
    {
     "name": "stdout",
     "output_type": "stream",
     "text": [
      "enter number one : 3\n",
      "enter number two : 3\n",
      "sum of two number is 6 \n"
     ]
    }
   ],
   "source": [
    "def maths(Sum):\n",
    "    print(f\"sum of two number is {Sum} \")\n",
    "    \n",
    "num1 = int(input(\"enter number one : \"))\n",
    "num2 = int(input(\"enter number two : \"))\n",
    "Sum=num1+num2\n",
    "maths(Sum)"
   ]
  },
  {
   "cell_type": "markdown",
   "id": "1b909bbe",
   "metadata": {},
   "source": [
    "# types of arguments"
   ]
  },
  {
   "cell_type": "code",
   "execution_count": 23,
   "id": "80f6cd91",
   "metadata": {},
   "outputs": [
    {
     "name": "stdout",
     "output_type": "stream",
     "text": [
      " quantity = 1 item = laptop price = 35000  \n"
     ]
    }
   ],
   "source": [
    "def j(item,quantity,price):\n",
    "    print(f\" quantity = {quantity} item = {item} price = {price}  \")\n",
    "    \n",
    "\n",
    "j(item='laptop',quantity=1,price=35000)"
   ]
  },
  {
   "cell_type": "code",
   "execution_count": 27,
   "id": "8c127349",
   "metadata": {},
   "outputs": [],
   "source": [
    "def f(i='laptop',q=1,p=35000):\n",
    "    print(f'item = {i}  quantity = {q}      price = {p}')"
   ]
  },
  {
   "cell_type": "code",
   "execution_count": 30,
   "id": "cf8405d1",
   "metadata": {},
   "outputs": [
    {
     "name": "stdout",
     "output_type": "stream",
     "text": [
      "item = laptop  quantity = 1      price = 35000\n"
     ]
    }
   ],
   "source": [
    "f()"
   ]
  },
  {
   "cell_type": "code",
   "execution_count": 38,
   "id": "6ea89c85",
   "metadata": {},
   "outputs": [
    {
     "name": "stdout",
     "output_type": "stream",
     "text": [
      "his last name is  sharif\n"
     ]
    }
   ],
   "source": [
    "def name(**kid):\n",
    "    print(\"his last name is  \" + kid[\"lname\"])\n",
    "    \n",
    "name(fname=\"thabish\",lname='sharif')"
   ]
  },
  {
   "cell_type": "code",
   "execution_count": null,
   "id": "31189614",
   "metadata": {},
   "outputs": [],
   "source": []
  },
  {
   "cell_type": "code",
   "execution_count": null,
   "id": "029e5727",
   "metadata": {},
   "outputs": [],
   "source": []
  },
  {
   "cell_type": "code",
   "execution_count": null,
   "id": "550feda3",
   "metadata": {},
   "outputs": [],
   "source": []
  },
  {
   "cell_type": "code",
   "execution_count": null,
   "id": "f1d5ca08",
   "metadata": {},
   "outputs": [],
   "source": []
  },
  {
   "cell_type": "code",
   "execution_count": null,
   "id": "8767b6b4",
   "metadata": {},
   "outputs": [],
   "source": []
  },
  {
   "cell_type": "code",
   "execution_count": null,
   "id": "df1b2fd3",
   "metadata": {},
   "outputs": [],
   "source": []
  },
  {
   "cell_type": "code",
   "execution_count": null,
   "id": "160eb86a",
   "metadata": {},
   "outputs": [],
   "source": []
  },
  {
   "cell_type": "code",
   "execution_count": null,
   "id": "950bf092",
   "metadata": {},
   "outputs": [],
   "source": []
  },
  {
   "cell_type": "code",
   "execution_count": null,
   "id": "92295e9d",
   "metadata": {},
   "outputs": [],
   "source": []
  },
  {
   "cell_type": "code",
   "execution_count": null,
   "id": "00d6c422",
   "metadata": {},
   "outputs": [],
   "source": []
  },
  {
   "cell_type": "code",
   "execution_count": null,
   "id": "21b7563a",
   "metadata": {},
   "outputs": [],
   "source": []
  },
  {
   "cell_type": "code",
   "execution_count": null,
   "id": "9103558e",
   "metadata": {},
   "outputs": [],
   "source": []
  },
  {
   "cell_type": "code",
   "execution_count": null,
   "id": "5117dd36",
   "metadata": {},
   "outputs": [],
   "source": []
  }
 ],
 "metadata": {
  "kernelspec": {
   "display_name": "Python 3 (ipykernel)",
   "language": "python",
   "name": "python3"
  },
  "language_info": {
   "codemirror_mode": {
    "name": "ipython",
    "version": 3
   },
   "file_extension": ".py",
   "mimetype": "text/x-python",
   "name": "python",
   "nbconvert_exporter": "python",
   "pygments_lexer": "ipython3",
   "version": "3.9.16"
  }
 },
 "nbformat": 4,
 "nbformat_minor": 5
}
