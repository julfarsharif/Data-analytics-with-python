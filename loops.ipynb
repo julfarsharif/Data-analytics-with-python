{
 "cells": [
  {
   "cell_type": "markdown",
   "id": "7f262033",
   "metadata": {},
   "source": [
    "# LOOPS"
   ]
  },
  {
   "cell_type": "markdown",
   "id": "593d67e4",
   "metadata": {},
   "source": [
    "# for loop"
   ]
  },
  {
   "cell_type": "code",
   "execution_count": 2,
   "id": "74410418",
   "metadata": {},
   "outputs": [],
   "source": [
    "num=(1,2,3,4,5,6,7,8,9,10)"
   ]
  },
  {
   "cell_type": "code",
   "execution_count": 10,
   "id": "75d627a7",
   "metadata": {},
   "outputs": [],
   "source": [
    "name=\"sharif\",\"julfar\",\"sabari\",\"arun\",\"gp muthu\""
   ]
  },
  {
   "cell_type": "code",
   "execution_count": 5,
   "id": "58d96330",
   "metadata": {},
   "outputs": [
    {
     "name": "stdout",
     "output_type": "stream",
     "text": [
      "1\n",
      "2\n",
      "3\n",
      "4\n",
      "5\n",
      "6\n",
      "7\n",
      "8\n",
      "9\n",
      "10\n"
     ]
    }
   ],
   "source": [
    "for i in num:\n",
    "    print(i)"
   ]
  },
  {
   "cell_type": "code",
   "execution_count": 12,
   "id": "e4761967",
   "metadata": {},
   "outputs": [
    {
     "name": "stdout",
     "output_type": "stream",
     "text": [
      "sharif\n",
      "julfar\n",
      "sabari\n",
      "arun\n",
      "gp muthu\n"
     ]
    }
   ],
   "source": [
    "for i in name:\n",
    "    print(i)"
   ]
  },
  {
   "cell_type": "code",
   "execution_count": 21,
   "id": "86362969",
   "metadata": {},
   "outputs": [
    {
     "name": "stdout",
     "output_type": "stream",
     "text": [
      "1  is odd\n",
      "2     is even\n",
      "3  is odd\n",
      "4     is even\n",
      "5  is odd\n",
      "6     is even\n",
      "7  is odd\n",
      "8     is even\n",
      "9  is odd\n",
      "10     is even\n"
     ]
    }
   ],
   "source": [
    "for i in num:\n",
    "    if i%2 == 0:\n",
    "        print(f\"{i}     is even\")\n",
    "    else:\n",
    "        print(f\"{i}  is odd\")\n",
    "            "
   ]
  },
  {
   "cell_type": "code",
   "execution_count": 26,
   "id": "730636cc",
   "metadata": {},
   "outputs": [
    {
     "name": "stdout",
     "output_type": "stream",
     "text": [
      "hello world!\n",
      "hello world!\n",
      "hello world!\n",
      "hello world!\n",
      "hello world!\n",
      "hello world!\n"
     ]
    }
   ],
   "source": [
    "for _ in 'python':\n",
    "    print(\"hello world!\")"
   ]
  },
  {
   "cell_type": "code",
   "execution_count": 28,
   "id": "6151710b",
   "metadata": {},
   "outputs": [
    {
     "name": "stdout",
     "output_type": "stream",
     "text": [
      "hello world!\n",
      "hello world!\n",
      "hello world!\n",
      "hello world!\n",
      "hello world!\n",
      "hello world!\n",
      "hello world!\n",
      "hello world!\n",
      "hello world!\n",
      "hello world!\n",
      "hello world!\n"
     ]
    }
   ],
   "source": [
    "for _ in 'king sharif':\n",
    "    print(\"hello world!\")"
   ]
  },
  {
   "cell_type": "markdown",
   "id": "b0864f3c",
   "metadata": {},
   "source": [
    "# while loop"
   ]
  },
  {
   "cell_type": "code",
   "execution_count": 31,
   "id": "752ba961",
   "metadata": {},
   "outputs": [
    {
     "name": "stdout",
     "output_type": "stream",
     "text": [
      "enter a number :5\n",
      "the sum is15\n"
     ]
    }
   ],
   "source": [
    "n=input(\"enter a number :\")\n",
    "val=0\n",
    "i=0\n",
    "while i<= int(n):\n",
    " val += i\n",
    " i += 1\n",
    "\n",
    "print(f\"the sum is{val}\")"
   ]
  },
  {
   "cell_type": "code",
   "execution_count": 36,
   "id": "8f7b0458",
   "metadata": {},
   "outputs": [
    {
     "name": "stdout",
     "output_type": "stream",
     "text": [
      "enter a number : 10\n",
      "the sum is 0 \n",
      "the sum is 1 \n",
      "the sum is 3 \n",
      "the sum is 6 \n",
      "the sum is 10 \n",
      "the sum is 15 \n",
      "the sum is 21 \n",
      "the sum is 28 \n",
      "the sum is 36 \n",
      "the sum is 45 \n",
      "the sum is 55 \n"
     ]
    }
   ],
   "source": [
    "n=input(\"enter a number : \")\n",
    "val=0\n",
    "i=0\n",
    "while i<= int(n):\n",
    " val += i\n",
    " i += 1\n",
    "\n",
    " print(f\"the sum is {val} \")"
   ]
  },
  {
   "cell_type": "code",
   "execution_count": 39,
   "id": "72404d61",
   "metadata": {},
   "outputs": [
    {
     "name": "stdout",
     "output_type": "stream",
     "text": [
      "inside loop\n",
      "inside loop\n",
      "inside loop\n",
      "inside loop\n",
      "inside loop\n",
      "Get out of loop\n"
     ]
    }
   ],
   "source": [
    "counter = 0\n",
    "\n",
    "while counter < 5:\n",
    "    print(\"inside loop\")\n",
    "    counter = counter +1\n",
    "else :\n",
    "    print(\"Get out of loop\")"
   ]
  },
  {
   "cell_type": "code",
   "execution_count": null,
   "id": "1fa28f87",
   "metadata": {},
   "outputs": [],
   "source": []
  },
  {
   "cell_type": "code",
   "execution_count": null,
   "id": "ad7fe5ac",
   "metadata": {},
   "outputs": [],
   "source": []
  },
  {
   "cell_type": "code",
   "execution_count": null,
   "id": "16ad5aad",
   "metadata": {},
   "outputs": [],
   "source": []
  },
  {
   "cell_type": "code",
   "execution_count": null,
   "id": "47273086",
   "metadata": {},
   "outputs": [],
   "source": []
  },
  {
   "cell_type": "code",
   "execution_count": null,
   "id": "5fe8555d",
   "metadata": {},
   "outputs": [],
   "source": []
  }
 ],
 "metadata": {
  "kernelspec": {
   "display_name": "Python 3 (ipykernel)",
   "language": "python",
   "name": "python3"
  },
  "language_info": {
   "codemirror_mode": {
    "name": "ipython",
    "version": 3
   },
   "file_extension": ".py",
   "mimetype": "text/x-python",
   "name": "python",
   "nbconvert_exporter": "python",
   "pygments_lexer": "ipython3",
   "version": "3.9.16"
  }
 },
 "nbformat": 4,
 "nbformat_minor": 5
}
